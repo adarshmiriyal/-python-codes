{
 "cells": [
  {
   "cell_type": "code",
   "execution_count": 1,
   "id": "8acd3c25-9e44-4872-805d-714cc71961d7",
   "metadata": {},
   "outputs": [
    {
     "name": "stdin",
     "output_type": "stream",
     "text": [
      " @\n"
     ]
    },
    {
     "name": "stdout",
     "output_type": "stream",
     "text": [
      "A is apecail caracter\n"
     ]
    }
   ],
   "source": [
    "a=input()\n",
    "\n",
    "if a.isupper():\n",
    "    print(\"A is a upper case caracter\")\n",
    "elif a.islower():\n",
    "    print(\"A is a lower case caracter\")\n",
    "else:\n",
    "    print(\"A is apecail caracter\")"
   ]
  },
  {
   "cell_type": "code",
   "execution_count": 1,
   "id": "bfbef24d-2f50-46f7-a517-75a9b0994065",
   "metadata": {},
   "outputs": [
    {
     "name": "stdin",
     "output_type": "stream",
     "text": [
      " @\n"
     ]
    },
    {
     "name": "stdout",
     "output_type": "stream",
     "text": [
      "A is apecail caracter\n"
     ]
    }
   ],
   "source": [
    "a=input()\n",
    "\n",
    "if a.isupper():\n",
    "    print(\"A is a upper case caracter\")\n",
    "elif a.islower():\n",
    "    print(\"A is a lower case caracter\")\n",
    "else:\n",
    "    print(\"A is apecail caracter\")"
   ]
  },
  {
   "cell_type": "code",
   "execution_count": 8,
   "id": "b677af6d-0d5a-4593-9b3a-b24e164036b8",
   "metadata": {},
   "outputs": [
    {
     "name": "stdin",
     "output_type": "stream",
     "text": [
      " 12321\n"
     ]
    },
    {
     "name": "stdout",
     "output_type": "stream",
     "text": [
      "pollindrome\n"
     ]
    }
   ],
   "source": [
    "a=input()\n",
    "flag=0\n",
    "for i in range (0,int(len(a)/2)):\n",
    "    if a[i] != a[(i+1)*-1]:\n",
    "        flag = 1\n",
    "        break\n",
    "if flag:\n",
    "    print(\"not pollindrome\")\n",
    "else:\n",
    "    print(\"pollindrome\")\n",
    "\n",
    "    "
   ]
  },
  {
   "cell_type": "code",
   "execution_count": 11,
   "id": "9c11c71e-ba1b-4caf-9c23-95167a9281f1",
   "metadata": {},
   "outputs": [
    {
     "name": "stdout",
     "output_type": "stream",
     "text": [
      "12847 is not a prime number.\n"
     ]
    }
   ],
   "source": [
    "def is_prime(n):\n",
    "    if n <= 1:\n",
    "        return False\n",
    "    elif n == 2:\n",
    "        return True\n",
    "    else:\n",
    "        for i in range(2, int(n ** 0.5) + 1):\n",
    "            if n % i == 0:\n",
    "                return False\n",
    "        return True\n",
    "\n",
    "number = 12847\n",
    "if is_prime(number):\n",
    "    print(f\"{number} is a prime number.\")\n",
    "else:\n",
    "    print(f\"{number} is not a prime number.\")"
   ]
  },
  {
   "cell_type": "code",
   "execution_count": 23,
   "id": "c66a4dd6-7332-4398-ae7e-cb2ab1170b52",
   "metadata": {
    "scrolled": true
   },
   "outputs": [
    {
     "name": "stdin",
     "output_type": "stream",
     "text": [
      " 23\n"
     ]
    },
    {
     "name": "stdout",
     "output_type": "stream",
     "text": [
      "A is a prime\n"
     ]
    }
   ],
   "source": [
    "a=int(input())\n",
    "for i in range(2,int(a/2)):\n",
    "    if a%i==0:\n",
    "        print(\"A is not a prime\")\n",
    "        break\n",
    "    else:\n",
    "        print(\"A is a prime\")\n",
    "        break"
   ]
  },
  {
   "cell_type": "code",
   "execution_count": 1,
   "id": "ab0b56b4-92a7-422b-bf39-63ba77089168",
   "metadata": {},
   "outputs": [],
   "source": [
    "import os\n",
    "with open(\"file.txt\",'w') as f:\n",
    "    f.write(\"This is first text  in file\")\n",
    "    f.close() "
   ]
  },
  {
   "cell_type": "code",
   "execution_count": 2,
   "id": "21a955d0-5413-4778-b804-b9ceb49d0b99",
   "metadata": {},
   "outputs": [
    {
     "ename": "TypeError",
     "evalue": "argument should be integer or None, not 'str'",
     "output_type": "error",
     "traceback": [
      "\u001b[1;31m---------------------------------------------------------------------------\u001b[0m",
      "\u001b[1;31mTypeError\u001b[0m                                 Traceback (most recent call last)",
      "Cell \u001b[1;32mIn[2], line 3\u001b[0m\n\u001b[0;32m      1\u001b[0m \u001b[38;5;28;01mimport\u001b[39;00m \u001b[38;5;21;01mos\u001b[39;00m\n\u001b[0;32m      2\u001b[0m \u001b[38;5;28;01mwith\u001b[39;00m \u001b[38;5;28mopen\u001b[39m(\u001b[38;5;124m\"\u001b[39m\u001b[38;5;124mfile.txt\u001b[39m\u001b[38;5;124m\"\u001b[39m,\u001b[38;5;124m'\u001b[39m\u001b[38;5;124mr\u001b[39m\u001b[38;5;124m'\u001b[39m) \u001b[38;5;28;01mas\u001b[39;00m f:\n\u001b[1;32m----> 3\u001b[0m     \u001b[43mf\u001b[49m\u001b[38;5;241;43m.\u001b[39;49m\u001b[43mread\u001b[49m\u001b[43m(\u001b[49m\u001b[38;5;124;43m\"\u001b[39;49m\u001b[38;5;124;43mthis file is read\u001b[39;49m\u001b[38;5;124;43m\"\u001b[39;49m\u001b[43m)\u001b[49m\n\u001b[0;32m      4\u001b[0m     f\u001b[38;5;241m.\u001b[39mclose()\n",
      "\u001b[1;31mTypeError\u001b[0m: argument should be integer or None, not 'str'"
     ]
    }
   ],
   "source": [
    "import os\n",
    "with open(\"file.txt\",'r') as f:\n",
    "    f.read(\"this file is read\")\n",
    "    f.close()"
   ]
  },
  {
   "cell_type": "code",
   "execution_count": 3,
   "id": "5e9231ea-7438-4581-999c-05cd6877e999",
   "metadata": {},
   "outputs": [
    {
     "name": "stdout",
     "output_type": "stream",
     "text": [
      "This is first text  in file\n"
     ]
    }
   ],
   "source": [
    "import os\n",
    "with open(\"file.txt\", 'r') as f:\n",
    "    contents=f.read()\n",
    "    print(contents)\n"
   ]
  },
  {
   "cell_type": "code",
   "execution_count": 6,
   "id": "c2c409ac-e422-4add-9f57-0a9697726987",
   "metadata": {},
   "outputs": [
    {
     "name": "stdout",
     "output_type": "stream",
     "text": [
      "54 degrees Celsius is equal to 129.2 degrees Fahrenheit.\n"
     ]
    }
   ],
   "source": [
    "def celsius_to_fahrenheit(celsius):\n",
    "    fahrenheit = (celsius * 9/5) + 32\n",
    "    return fahrenheit\n",
    "celsius_temperature = 54\n",
    "fahrenheit_temperature = celsius_to_fahrenheit(celsius_temperature)\n",
    "print(f\"{celsius_temperature} degrees Celsius is equal to {fahrenheit_temperature} degrees Fahrenheit.\")\n"
   ]
  },
  {
   "cell_type": "code",
   "execution_count": 7,
   "id": "7a140654-e789-472c-bc9f-7dc5cfc0da0c",
   "metadata": {},
   "outputs": [
    {
     "name": "stdout",
     "output_type": "stream",
     "text": [
      "Second largest element in the list: 15\n"
     ]
    }
   ],
   "source": [
    "def find_second_largest(lst):\n",
    "    \n",
    "    unique_lst = list(set(lst))\n",
    "    \n",
    "   \n",
    "    if len(unique_lst) < 2:\n",
    "        return \"List has less than two unique elements.\"\n",
    "    \n",
    "    \n",
    "    unique_lst.sort()\n",
    "    \n",
    "   \n",
    "    return unique_lst[-2]\n",
    "\n",
    "\n",
    "my_list = [10, 5, 8, 20, 15]\n",
    "second_largest = find_second_largest(my_list)\n",
    "print(\"Second largest element in the list:\", second_largest)\n"
   ]
  },
  {
   "cell_type": "code",
   "execution_count": 8,
   "id": "8925a501-81b4-4337-b7ec-73cf9ebcf88a",
   "metadata": {},
   "outputs": [
    {
     "name": "stdout",
     "output_type": "stream",
     "text": [
      "Occurrences of each element in the list:\n",
      "1: 3\n",
      "2: 2\n",
      "3: 1\n",
      "4: 3\n",
      "5: 1\n"
     ]
    }
   ],
   "source": [
    "def count_occurrences(lst):\n",
    "    \n",
    "    counts = {}\n",
    "    \n",
    "    \n",
    "    for element in lst:\n",
    "        \n",
    "        if element in counts:\n",
    "            counts[element] += 1\n",
    "       \n",
    "        else:\n",
    "            counts[element] = 1\n",
    "    \n",
    "    return counts\n",
    "\n",
    "\n",
    "my_list = [1, 2, 1, 3, 2, 1, 4, 5, 4, 4]\n",
    "occurrences = count_occurrences(my_list)\n",
    "print(\"Occurrences of each element in the list:\")\n",
    "for element, count in occurrences.items():\n",
    "    print(f\"{element}: {count}\")\n"
   ]
  },
  {
   "cell_type": "code",
   "execution_count": 9,
   "id": "d0d4c972-1497-49fe-98c5-b1e3f54a8d80",
   "metadata": {},
   "outputs": [
    {
     "name": "stdout",
     "output_type": "stream",
     "text": [
      "Sum of all even numbers in the list: 30\n"
     ]
    }
   ],
   "source": [
    "def sum_even_numbers(lst):\n",
    "    \n",
    "    even_sum = 0\n",
    "    \n",
    "\n",
    "    for num in lst:\n",
    "        \n",
    "        if num % 2 == 0:\n",
    "            \n",
    "            even_sum += num\n",
    "    \n",
    "    return even_sum\n",
    "\n",
    "\n",
    "my_list = [1, 2, 3, 4, 5, 6, 7, 8, 9, 10]\n",
    "result = sum_even_numbers(my_list)\n",
    "print(\"Sum of all even numbers in the list:\", result)\n"
   ]
  },
  {
   "cell_type": "code",
   "execution_count": 10,
   "id": "ba16c1ac-77ab-4c05-b15b-5b6a2d03b2d9",
   "metadata": {},
   "outputs": [
    {
     "name": "stdout",
     "output_type": "stream",
     "text": [
      "Number of vowels in the string: 3\n"
     ]
    }
   ],
   "source": [
    "def count_vowels(string):\n",
    "   \n",
    "    vowels = {'a', 'e', 'i', 'o', 'u', 'A', 'E', 'I', 'O', 'U'}\n",
    "    \n",
    "   \n",
    "    count = 0\n",
    "    \n",
    "   \n",
    "    for char in string:\n",
    "        \n",
    "        if char in vowels:\n",
    "            count += 1\n",
    "    \n",
    "    return count\n",
    "\n",
    "\n",
    "my_string = \"Hello, World!\"\n",
    "vowel_count = count_vowels(my_string)\n",
    "print(\"Number of vowels in the string:\", vowel_count)\n"
   ]
  },
  {
   "cell_type": "code",
   "execution_count": 11,
   "id": "98055a8f-39ac-4f66-8943-7f53f55bb8ee",
   "metadata": {},
   "outputs": [
    {
     "name": "stdout",
     "output_type": "stream",
     "text": [
      "Reversed sentence: sentence sample a is This\n"
     ]
    }
   ],
   "source": [
    "def reverse_sentence(sentence):\n",
    "   \n",
    "    words = sentence.split()\n",
    "    \n",
    " \n",
    "    reversed_words = words[::-1]\n",
    "    \n",
    "    \n",
    "    reversed_sentence = ' '.join(reversed_words)\n",
    "    \n",
    "    return reversed_sentence\n",
    "\n",
    "\n",
    "input_sentence = \"This is a sample sentence\"\n",
    "reversed_sentence = reverse_sentence(input_sentence)\n",
    "print(\"Reversed sentence:\", reversed_sentence)\n"
   ]
  },
  {
   "cell_type": "code",
   "execution_count": null,
   "id": "6ca2eb02-ec86-4f26-9e34-f21f838ae8e5",
   "metadata": {},
   "outputs": [],
   "source": []
  }
 ],
 "metadata": {
  "kernelspec": {
   "display_name": "Python 3 (ipykernel)",
   "language": "python",
   "name": "python3"
  },
  "language_info": {
   "codemirror_mode": {
    "name": "ipython",
    "version": 3
   },
   "file_extension": ".py",
   "mimetype": "text/x-python",
   "name": "python",
   "nbconvert_exporter": "python",
   "pygments_lexer": "ipython3",
   "version": "3.12.3"
  }
 },
 "nbformat": 4,
 "nbformat_minor": 5
}

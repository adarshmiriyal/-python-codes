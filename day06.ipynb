{
 "cells": [
  {
   "cell_type": "code",
   "execution_count": 23,
   "id": "4ea4fabd-c10b-4032-8a96-15bf02f274aa",
   "metadata": {},
   "outputs": [
    {
     "name": "stdout",
     "output_type": "stream",
     "text": [
      "KA34-8880\n",
      "orange black\n",
      "2\n",
      "180\n",
      "rc125\n",
      "2 stoke\n",
      "150000\n"
     ]
    }
   ],
   "source": [
    "class vehicle:\n",
    "    def __init__(self,e,r,p,c):\n",
    "        self.engine = e\n",
    "        self.regplate =r\n",
    "        self.price = p\n",
    "        self.colour = c\n",
    "class bick(vehicle):\n",
    "    def __init__(self, t, n, m, e, r, p, c):\n",
    "        super().__init__(e,r,p,c)\n",
    "        self.type =t\n",
    "        self.noofpassanger =n\n",
    "        self.maxspeed =m\n",
    "class truck(vehicle):\n",
    "    def _init_(self,no,l,e,r,p,c):\n",
    "        super().__init__(e,r,p,c)\n",
    "        self.axle =no\n",
    "        self.loadcapacity =l\n",
    "\n",
    "if __name__==\"__main__\":\n",
    "    ktm = bick(\"rc125\",\"2 stoke\",150000,\"KA34-8880\",\"orange black\",2,180)\n",
    "    print(ktm.engine)\n",
    "    print(ktm.regplate)\n",
    "    print(ktm.price)\n",
    "    print(ktm.colour)\n",
    "    print(ktm.type)\n",
    "    print(ktm.noofpassanger)\n",
    "    print(ktm.maxspeed)\n"
   ]
  },
  {
   "cell_type": "code",
   "execution_count": 6,
   "id": "ef40926a-76f0-4eb5-a573-d4f1817b8439",
   "metadata": {},
   "outputs": [
    {
     "name": "stdout",
     "output_type": "stream",
     "text": [
      "2 stroke\n",
      "KA34-8880\n",
      "150000\n",
      "orange blalk\n",
      "rc125\n",
      "2\n",
      "180\n"
     ]
    }
   ],
   "source": [
    "class Vehicle:\n",
    "    def __init__(self, e, r, p, c):\n",
    "        self.engine = e\n",
    "        self.regplate = r\n",
    "        self.price = p\n",
    "        self.colour = c\n",
    "\n",
    "class Car(Vehicle):\n",
    "    def __init__(self, t, n, m,e, r, p, c):\n",
    "        super().__init__(e, r, p, c)\n",
    "        self.type = t\n",
    "        self.noofpassanger = n\n",
    "        self.maxspeed = m\n",
    "\n",
    "class Truck(Vehicle):\n",
    "    def _init_(self, no, l, e, r, p, c):\n",
    "        super().__init__(e, r, p, c)\n",
    "        self.numberofaxle = no\n",
    "        self.loadcapacity = l\n",
    "\n",
    "if __name__ == \"__main__\":\n",
    "    access = Car(\"rc125\", 2, 180, \"2 stroke\", \"KA34-8880\", 150000, \"orange blalk\")\n",
    "    print(access.engine)\n",
    "    print(access.regplate)\n",
    "    print(access.price)\n",
    "    print(access.colour)\n",
    "    print(access.type)\n",
    "    print(access.noofpassanger)\n",
    "    print(access.maxspeed)"
   ]
  },
  {
   "cell_type": "code",
   "execution_count": 28,
   "id": "c9b2ae5c-1864-46ed-9374-bc7b13103f9d",
   "metadata": {},
   "outputs": [
    {
     "name": "stdout",
     "output_type": "stream",
     "text": [
      "education\n",
      "engineering\n",
      "25\n",
      "ai400\n",
      "adarshmiriyal\n",
      "40000\n",
      "self learning\n",
      "BITM students\n",
      "3br23ai000\n",
      "bitm\n",
      "0\n"
     ]
    }
   ],
   "source": [
    "class employee:\n",
    "    def __init__(self,id,name,salary):\n",
    "        self.Employeeid=id\n",
    "        self.Employeename=name\n",
    "        self.Employeesalary=salary\n",
    "\n",
    "class storestaff(employee):\n",
    "    def __init__(self,t, a, id,name,salary):\n",
    "        super().__init__(id,name,salary)\n",
    "        self.worktype=t\n",
    "        self.workarea=a\n",
    "\n",
    "class developer(employee):\n",
    "    def __init__(self, m, t, ex,id,name,salary):\n",
    "        super().__init__(id,name,salary)\n",
    "        self.module=m\n",
    "        self.tech=t\n",
    "        self.experience=ex\n",
    "\n",
    "class manager(employee):\n",
    "    def __init__(self,p,c,id,name,salary):\n",
    "        super().__init__(id,name,salary)\n",
    "        self.project=p\n",
    "        self.clintname=c\n",
    "\n",
    "\n",
    "if __name__==\"__main__\":\n",
    "    infosys=developer(\"education\",\"engineering\",25,\"ai400\",\"adarshmiriyal\",40000)\n",
    "    print(infosys.module)\n",
    "    print(infosys.tech)\n",
    "    print(infosys.experience)\n",
    "    print(infosys.Employeeid)\n",
    "    print(infosys.Employeename)\n",
    "    print(infosys.Employeesalary)\n",
    "\n",
    "\n",
    "\n",
    "\n",
    "if __name__==\"__main__\":\n",
    "    infosys=manager(\"self learning\",\"BITM students\",\"3br23ai000\",\"bitm\",0000000)\n",
    "    print(infosys.project)\n",
    "    print(infosys.clintname)\n",
    "    print(infosys.Employeeid)\n",
    "    print(infosys.Employeename)\n",
    "    print(infosys.Employeesalary)\n",
    "    "
   ]
  },
  {
   "cell_type": "code",
   "execution_count": 39,
   "id": "ae93436b-1b2f-4e86-806c-3c90347c5ce8",
   "metadata": {},
   "outputs": [
    {
     "name": "stdout",
     "output_type": "stream",
     "text": [
      "$ $ $ $ $ $  \n",
      "$         $  \n",
      "$         $  \n",
      "$         $  \n",
      "$         $  \n",
      "$ $ $ $ $ $  \n"
     ]
    }
   ],
   "source": [
    "for i in range(0,6):\n",
    "    for j in range(0,6):\n",
    "        if i==0 or j==0 or i==5 or j==5:\n",
    "            print(\"$\",end=\" \")\n",
    "        else:\n",
    "            print(\" \",end=\" \")\n",
    "\n",
    "    print(\" \")\n",
    "    "
   ]
  },
  {
   "cell_type": "code",
   "execution_count": 41,
   "id": "64298bb0-b7e2-45cd-b4ae-2e8d6f928f73",
   "metadata": {},
   "outputs": [
    {
     "name": "stdout",
     "output_type": "stream",
     "text": [
      "@  \n",
      "@ @  \n",
      "@ @ @  \n",
      "@ @ @ @  \n",
      "@ @ @ @ @  \n",
      "@ @ @ @ @ @  \n"
     ]
    }
   ],
   "source": [
    "for i in range(0,6):\n",
    "    for j in range(0,i+1):\n",
    "        print(\"@\",end=\" \")\n",
    "    print(\" \")"
   ]
  },
  {
   "cell_type": "code",
   "execution_count": 42,
   "id": "7de61af7-134c-45e9-b141-e64f2f26eeee",
   "metadata": {},
   "outputs": [
    {
     "name": "stdout",
     "output_type": "stream",
     "text": [
      "@ @  \n",
      "@ @ @  \n",
      "@ @ @ @  \n",
      "@ @ @ @ @  \n",
      "@ @ @ @ @ @  \n",
      "@ @ @ @ @ @ @  \n"
     ]
    }
   ],
   "source": [
    "for i in range(0,6):\n",
    "    for j in range(0,i+2):\n",
    "        print(\"@\",end=\" \")\n",
    "    print(\" \")"
   ]
  },
  {
   "cell_type": "code",
   "execution_count": 44,
   "id": "a071cc46-4a45-4be2-8b96-0949b4f63f56",
   "metadata": {},
   "outputs": [
    {
     "name": "stdout",
     "output_type": "stream",
     "text": [
      "@  \n",
      " \n",
      " \n",
      " \n",
      " \n",
      " \n"
     ]
    }
   ],
   "source": [
    "for i in range(0,6):\n",
    "    for j in range(0,i-1,-1):\n",
    "        print(\"@\",end=\" \")\n",
    "    print(\" \")"
   ]
  },
  {
   "cell_type": "code",
   "execution_count": 45,
   "id": "37db1f16-0656-433a-90c3-3604c1b463a2",
   "metadata": {},
   "outputs": [
    {
     "name": "stdout",
     "output_type": "stream",
     "text": [
      "@ @ @ @ @ @ \n",
      "@ @ @ @ @ \n",
      "@ @ @ @ \n",
      "@ @ @ \n",
      "@ @ \n",
      "@ \n"
     ]
    }
   ],
   "source": [
    "for i in range(6, 0, -1):  \n",
    "    for j in range(0, i):\n",
    "        print(\"@\", end=\" \")\n",
    "    print()\n"
   ]
  },
  {
   "cell_type": "code",
   "execution_count": 50,
   "id": "379aac9f-ce3c-42af-bc7b-15714ccd0480",
   "metadata": {},
   "outputs": [
    {
     "name": "stdout",
     "output_type": "stream",
     "text": [
      " \n",
      "$  \n",
      "^ $  \n",
      "$ ^ $  \n",
      "^ $ ^ $  \n",
      "$ ^ $ ^ $  \n",
      "^ $ ^ $ ^ $  \n"
     ]
    }
   ],
   "source": [
    "for i in range(0,7):\n",
    "    for j in range(0,i):\n",
    "        if (i+j)%2==0:\n",
    "            print(\"^\",end=\" \")\n",
    "        else:\n",
    "            print(\"$\",end=\" \")\n",
    "    print(\" \")"
   ]
  },
  {
   "cell_type": "code",
   "execution_count": 68,
   "id": "f216fc90-d496-4d40-b4c9-efa5c78b1c6a",
   "metadata": {},
   "outputs": [
    {
     "name": "stdout",
     "output_type": "stream",
     "text": [
      " \n",
      "2  \n",
      "2 2  \n",
      "2 2 2  \n",
      "2 2 2 2  \n"
     ]
    }
   ],
   "source": [
    "num =1 \n",
    "for i in range(0,5):  \n",
    "    for j in range(0,i):\n",
    "        print(num, end=\" \")\n",
    "    print(\" \")\n"
   ]
  },
  {
   "cell_type": "code",
   "execution_count": null,
   "id": "9b88b75d-cff2-42b1-8147-7dbb47992d53",
   "metadata": {},
   "outputs": [],
   "source": []
  },
  {
   "cell_type": "code",
   "execution_count": null,
   "id": "6a9f6ae1-a3b5-4315-8c78-a625dd144364",
   "metadata": {},
   "outputs": [],
   "source": []
  }
 ],
 "metadata": {
  "kernelspec": {
   "display_name": "Python 3 (ipykernel)",
   "language": "python",
   "name": "python3"
  },
  "language_info": {
   "codemirror_mode": {
    "name": "ipython",
    "version": 3
   },
   "file_extension": ".py",
   "mimetype": "text/x-python",
   "name": "python",
   "nbconvert_exporter": "python",
   "pygments_lexer": "ipython3",
   "version": "3.12.3"
  }
 },
 "nbformat": 4,
 "nbformat_minor": 5
}

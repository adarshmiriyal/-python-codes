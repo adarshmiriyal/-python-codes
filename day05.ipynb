{
 "cells": [
  {
   "cell_type": "code",
   "execution_count": 1,
   "id": "84619300-47e0-4926-be75-c71952c63ddb",
   "metadata": {},
   "outputs": [
    {
     "name": "stdout",
     "output_type": "stream",
     "text": [
      "File Doesn't exist\n"
     ]
    }
   ],
   "source": [
    "import os\n",
    "try:\n",
    "    with open(\"Sample.txt\",'r') as F:\n",
    "        pass\n",
    "except FileNotFoundError:\n",
    "    print(\"File Doesn't exist\")"
   ]
  },
  {
   "cell_type": "code",
   "execution_count": 4,
   "id": "6bc8ec3d-76b5-4e54-823c-7353b3ce8837",
   "metadata": {},
   "outputs": [
    {
     "name": "stdout",
     "output_type": "stream",
     "text": [
      "this laptop have i5 8gm ram 1tb ssd\n",
      "0\n"
     ]
    }
   ],
   "source": [
    " class laptop:\n",
    "     a=0\n",
    "     def config(self):\n",
    "         print(\"this laptop have i5 8gm ram 1tb ssd\")\n",
    "\n",
    "hp=laptop()\n",
    "\n",
    "hp.config()\n",
    "print(hp.a)"
   ]
  },
  {
   "cell_type": "code",
   "execution_count": 5,
   "id": "f7c04d2d-d773-4d86-9436-978baf0a9970",
   "metadata": {},
   "outputs": [
    {
     "ename": "SyntaxError",
     "evalue": "invalid syntax (1937290310.py, line 5)",
     "output_type": "error",
     "traceback": [
      "\u001b[1;36m  Cell \u001b[1;32mIn[5], line 5\u001b[1;36m\u001b[0m\n\u001b[1;33m    def\u001b[0m\n\u001b[1;37m       ^\u001b[0m\n\u001b[1;31mSyntaxError\u001b[0m\u001b[1;31m:\u001b[0m invalid syntax\n"
     ]
    }
   ],
   "source": [
    "class laptop:\n",
    "    processor=input(\"enter the processor\")\n",
    "    ram=input(\"enter the ram\")\n",
    "    storage=input(\"enter the storage\")\n",
    "    def"
   ]
  },
  {
   "cell_type": "code",
   "execution_count": 7,
   "id": "0eced8aa-55ba-4357-a8b4-e9a475179d6d",
   "metadata": {},
   "outputs": [
    {
     "name": "stdin",
     "output_type": "stream",
     "text": [
      "enter the processor: dell\n",
      "enter the ram 8\n",
      "enter the storage 64\n"
     ]
    },
    {
     "ename": "NameError",
     "evalue": "name 'processor' is not defined",
     "output_type": "error",
     "traceback": [
      "\u001b[1;31m---------------------------------------------------------------------------\u001b[0m",
      "\u001b[1;31mNameError\u001b[0m                                 Traceback (most recent call last)",
      "Cell \u001b[1;32mIn[7], line 17\u001b[0m\n\u001b[0;32m     14\u001b[0m     \u001b[38;5;28mprint\u001b[39m(\u001b[38;5;124mf\u001b[39m\u001b[38;5;124m\"\u001b[39m\u001b[38;5;124mRAM: \u001b[39m\u001b[38;5;132;01m{\u001b[39;00m\u001b[38;5;28mself\u001b[39m\u001b[38;5;241m.\u001b[39mram\u001b[38;5;132;01m}\u001b[39;00m\u001b[38;5;124m\"\u001b[39m)\n\u001b[0;32m     15\u001b[0m     \u001b[38;5;28mprint\u001b[39m(\u001b[38;5;124mf\u001b[39m\u001b[38;5;124m\"\u001b[39m\u001b[38;5;124mStorage: \u001b[39m\u001b[38;5;132;01m{\u001b[39;00m\u001b[38;5;28mself\u001b[39m\u001b[38;5;241m.\u001b[39mstorage\u001b[38;5;132;01m}\u001b[39;00m\u001b[38;5;124m\"\u001b[39m)\n\u001b[1;32m---> 17\u001b[0m computer \u001b[38;5;241m=\u001b[39m Computer(\u001b[43mprocessor\u001b[49m, ram, storage)\n\u001b[0;32m     18\u001b[0m computer\u001b[38;5;241m.\u001b[39mprint\n",
      "\u001b[1;31mNameError\u001b[0m: name 'processor' is not defined"
     ]
    }
   ],
   "source": [
    "class laptop:\n",
    "  processor = input(\"enter the processor:\")\n",
    "  ram = input(\"enter the ram\")\n",
    "  storage = input(\"enter the storage\")\n",
    "\n",
    "class Computer:\n",
    "  def _init_(self, processor, ram, storage):\n",
    "    self.processor = processor\n",
    "    self.ram = ram\n",
    "    self.storage = storage\n",
    "\n",
    "  def print_specs(self):\n",
    "    print(f\"Processor: {self.processor}\")\n",
    "    print(f\"RAM: {self.ram}\")\n",
    "    print(f\"Storage: {self.storage}\")\n",
    "\n",
    "computer = Computer(processor, ram, storage)\n",
    "computer.print"
   ]
  },
  {
   "cell_type": "code",
   "execution_count": 8,
   "id": "0c6ff017-6e72-4f54-b5f6-49e67281ff5a",
   "metadata": {},
   "outputs": [
    {
     "ename": "TypeError",
     "evalue": "laptop() takes no arguments",
     "output_type": "error",
     "traceback": [
      "\u001b[1;31m---------------------------------------------------------------------------\u001b[0m",
      "\u001b[1;31mTypeError\u001b[0m                                 Traceback (most recent call last)",
      "Cell \u001b[1;32mIn[8], line 12\u001b[0m\n\u001b[0;32m     10\u001b[0m         \u001b[38;5;28mprint\u001b[39m(\u001b[38;5;124m\"\u001b[39m\u001b[38;5;124mram\u001b[39m\u001b[38;5;124m\"\u001b[39m, \u001b[38;5;28mself\u001b[39m\u001b[38;5;241m.\u001b[39mram)\n\u001b[0;32m     11\u001b[0m         \u001b[38;5;28mprint\u001b[39m(\u001b[38;5;124m\"\u001b[39m\u001b[38;5;124mstorage:\u001b[39m\u001b[38;5;124m\"\u001b[39m, \u001b[38;5;28mself\u001b[39m\u001b[38;5;241m.\u001b[39mstorage)\n\u001b[1;32m---> 12\u001b[0m asus\u001b[38;5;241m=\u001b[39m\u001b[43mlaptop\u001b[49m\u001b[43m(\u001b[49m\u001b[38;5;241;43m30\u001b[39;49m\u001b[43m,\u001b[49m\u001b[38;5;241;43m30\u001b[39;49m\u001b[43m,\u001b[49m\u001b[38;5;241;43m4\u001b[39;49m\u001b[43m)\u001b[49m\n\u001b[0;32m     13\u001b[0m \u001b[38;5;28mprint\u001b[39m(asus\u001b[38;5;241m.\u001b[39mprocessor)\n",
      "\u001b[1;31mTypeError\u001b[0m: laptop() takes no arguments"
     ]
    }
   ],
   "source": [
    "class laptop:\n",
    "    a=0\n",
    "    def _init_(self, processor, ram, storage):\n",
    "        self.processor = processor\n",
    "        self.ram = ram\n",
    "        self.storage = storage\n",
    "\n",
    "    def display(self):\n",
    "        print(\"processor\", self.processor)\n",
    "        print(\"ram\", self.ram)\n",
    "        print(\"storage:\", self.storage)\n",
    "asus=laptop(30,30,4)\n",
    "print(asus.processor)"
   ]
  },
  {
   "cell_type": "code",
   "execution_count": 2,
   "id": "544da7bb-350f-4d67-ab91-678c5768ec31",
   "metadata": {},
   "outputs": [
    {
     "name": "stdout",
     "output_type": "stream",
     "text": [
      "configuration of laptop is\n",
      "processor i5\n",
      "ram 8\n",
      "storage 256\n"
     ]
    }
   ],
   "source": [
    "class laptop:\n",
    "    a=0\n",
    "    \n",
    "    def __init__(self, processor, ram, storage):\n",
    "        self.processor = processor\n",
    "        self.ram = ram\n",
    "        self.storage = storage\n",
    "\n",
    "    def config(self):\n",
    "        print(\"configuration of laptop is\")\n",
    "        print(\"processor\",self.processor)\n",
    "        print(\"ram\",self.ram)\n",
    "        print(\"storage\",self.storage)\n",
    "if __name__==\"__main__\":    \n",
    "    hp=laptop(\"i5\",8,256)\n",
    "    hp.config()"
   ]
  },
  {
   "cell_type": "code",
   "execution_count": 28,
   "id": "20582771-30ed-489d-930b-b9210c0376a7",
   "metadata": {},
   "outputs": [
    {
     "name": "stdout",
     "output_type": "stream",
     "text": [
      "enter the student\n",
      "hindi 60\n",
      "kannada 39\n",
      "sience 40\n",
      "socialscience 77\n",
      "maths 99\n",
      "average  63.0\n"
     ]
    }
   ],
   "source": [
    "class student:\n",
    "    def __init__(self,h,k,s,ss,m):\n",
    "        self.hindi=h\n",
    "        self.kannada=k\n",
    "        self.science=s\n",
    "        self.socialscience=ss\n",
    "        self.maths=m\n",
    "    def config(self):\n",
    "        print(\"enter the student\")\n",
    "        print(\"hindi\",self.hindi)\n",
    "        print(\"kannada\",self.kannada)\n",
    "        print(\"sience\",self.science)\n",
    "        print(\"socialscience\",self.socialscience)\n",
    "        print(\"maths\",self.maths)\n",
    "    def avg(self):\n",
    "        avg=((self.hindi+self.kannada+self.science+self.socialscience+self.maths)/5)\n",
    "        print(\"average \",avg)\n",
    "if __name__==\"__main__\":\n",
    "    marks=student(60,39,40,77,99)\n",
    "    marks.config()\n",
    "    marks.avg()"
   ]
  },
  {
   "cell_type": "code",
   "execution_count": 8,
   "id": "350589e0-b656-468e-a23e-9fbaf2ebe12c",
   "metadata": {},
   "outputs": [
    {
     "name": "stdout",
     "output_type": "stream",
     "text": [
      "configuration of laptop is\n",
      "processor i5\n",
      "ram 8\n",
      "storage 256\n"
     ]
    }
   ],
   "source": [
    "class laptop:\n",
    "    a=0\n",
    "    \n",
    "    def __init__(self, processor, ram, storage):\n",
    "        self.processor = processor\n",
    "        self.ram = ram\n",
    "        self.storage = storage\n",
    " \n",
    "    def config(self):\n",
    "        print(\"configuration of laptop is\")\n",
    "        print(\"processor\",self.processor)\n",
    "        print(\"ram\",self.ram)\n",
    "        print(\"storage\",self.storage)\n",
    "if __name__==\"__main__\":       \n",
    "    hp=laptop(\"i5\",8,256)\n",
    "    hp.config()"
   ]
  },
  {
   "cell_type": "code",
   "execution_count": 9,
   "id": "21e686f4-236d-4fce-aee9-056da656d1c5",
   "metadata": {},
   "outputs": [
    {
     "ename": "SyntaxError",
     "evalue": "invalid syntax (262131687.py, line 6)",
     "output_type": "error",
     "traceback": [
      "\u001b[1;36m  Cell \u001b[1;32mIn[9], line 6\u001b[1;36m\u001b[0m\n\u001b[1;33m    self.\u001b[0m\n\u001b[1;37m         ^\u001b[0m\n\u001b[1;31mSyntaxError\u001b[0m\u001b[1;31m:\u001b[0m invalid syntax\n"
     ]
    }
   ],
   "source": [
    "  class ticket:\n",
    "    def __init(self,s,d,dis,c):\n",
    "        self.source=s\n",
    "        self.destination=d\n",
    "        self.distance=dis\n",
    "        self.\n",
    "    def calculate_distance(self):\n",
    "        print(self.distance*2)\n",
    "\n",
    "    def calculate_total_price(self):\n",
    "        print("
   ]
  },
  {
   "cell_type": "code",
   "execution_count": 11,
   "id": "c3cb4cc0-d363-433d-a6a9-70f6a6f06826",
   "metadata": {},
   "outputs": [
    {
     "name": "stdout",
     "output_type": "stream",
     "text": [
      "Ticket booked Fare Price will be:  5550\n"
     ]
    }
   ],
   "source": [
    "class ticket:\n",
    "   \n",
    "    def __init__(self,D):\n",
    "        self.distance = int(D)\n",
    "        self.farePrice = None\n",
    "\n",
    "class gen(ticket):\n",
    "    def __init__(self,D):\n",
    "        super().__init__(D)\n",
    "    def print_ticket(self):\n",
    "        self.farePrice=50+(self.distance*2)\n",
    "        return self.farePrice\n",
    "        \n",
    "\n",
    "\n",
    "class slp(gen):\n",
    "    def __init__(self,D):\n",
    "        super().__init__(D)\n",
    "\n",
    "    def print__ticket(self):\n",
    "        self.farePrice=super().print__ticket()+(2*self.distance)\n",
    "        return self.farePrice\n",
    "\n",
    "class AC(slp):\n",
    "    def __init__(self,D):\n",
    "        super().__init__(D)\n",
    "    def print__ticket(self):\n",
    "        self.farePrice=super().print_ticket()+(4*self.distance)\n",
    "        return self.farePrice\n",
    "\n",
    "class FC(AC):\n",
    "    def __init__(self,D):\n",
    "        super().__init__(D)\n",
    "    def print_ticket(self):\n",
    "        self.farePrice=super().print__ticket()+(5*self.distance)\n",
    "        return self.farePrice\n",
    "\n",
    "\n",
    "jur = FC(500)\n",
    "print(\"Ticket booked Fare Price will be: \",jur.print_ticket())\n"
   ]
  },
  {
   "cell_type": "code",
   "execution_count": null,
   "id": "794bf5b0-e10a-4b8c-9dda-42b8087632d8",
   "metadata": {},
   "outputs": [],
   "source": []
  }
 ],
 "metadata": {
  "kernelspec": {
   "display_name": "Python 3 (ipykernel)",
   "language": "python",
   "name": "python3"
  },
  "language_info": {
   "codemirror_mode": {
    "name": "ipython",
    "version": 3
   },
   "file_extension": ".py",
   "mimetype": "text/x-python",
   "name": "python",
   "nbconvert_exporter": "python",
   "pygments_lexer": "ipython3",
   "version": "3.12.3"
  }
 },
 "nbformat": 4,
 "nbformat_minor": 5
}

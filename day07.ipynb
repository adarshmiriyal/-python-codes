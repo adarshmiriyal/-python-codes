{
 "cells": [
  {
   "cell_type": "code",
   "execution_count": 2,
   "id": "21bfc6b0-88a2-4388-b48a-4f16ddfdb303",
   "metadata": {},
   "outputs": [
    {
     "name": "stdout",
     "output_type": "stream",
     "text": [
      "Maximum sum of any three consecutive elements: 19\n"
     ]
    }
   ],
   "source": [
    "def max_sum_of_triplets(arr):\n",
    "    max_sum = float('-inf')  \n",
    "    for i in range(len(arr) - 2):\n",
    "        triplet_sum = arr[i] + arr[i + 1] + arr[i + 2]\n",
    "        max_sum = max(max_sum, triplet_sum)\n",
    "    return max_sum\n",
    "\n",
    "\n",
    "arr = [2,4,6,1,3,7,4,6,9,3,6,8,3,6,4,1,3,9,6,4,5,6,8,3,7,3,6,8]\n",
    "max_sum = max_sum_of_triplets(arr)\n",
    "print(\"Maximum sum of any three consecutive elements:\", max_sum)\n"
   ]
  },
  {
   "cell_type": "code",
   "execution_count": 10,
   "id": "bbfb4263-0132-4562-bbe0-27527932437c",
   "metadata": {},
   "outputs": [
    {
     "name": "stdout",
     "output_type": "stream",
     "text": [
      "Maximum sum of any three consecutive elements: 19\n"
     ]
    }
   ],
   "source": [
    "a=[2,4,6,1,3,7,4,6,9,3,6,8,3,6,4,1,3,9,6,4,5,6,8,3,7,3,6,8]\n",
    "for i in range(0,len(a)-2):\n",
    "    sum=a[i]+a[i+1]+a[i+2]\n",
    "    max_sum = max(max_sum,sum)\n",
    "\n",
    "print(\"Maximum sum of any three consecutive elements:\",max_sum)"
   ]
  },
  {
   "cell_type": "code",
   "execution_count": 18,
   "id": "1abb046d-c9e0-4bd8-800e-5ee5ba336555",
   "metadata": {},
   "outputs": [
    {
     "name": "stdout",
     "output_type": "stream",
     "text": [
      "Maximum sum of any six consecutive elements: 64\n"
     ]
    }
   ],
   "source": [
    "a=[2,4,6,1,3,7,4,6,9,3,6,8,3,6,4,1,3,9,6,4,5,6,8,3,7,\n",
    "   3,6,4,6,1,3,7,4,6,9,3,6,8,3,6,4,1,3,9,6,4,5,6,8,3,\n",
    "   7,3,4,6,1,3,7,4,6,9,3,6,8,3,6,4,1,3,9,6,4,5,6,8,3,\n",
    "   7,3,6,4,6,1,3,7,4,6,9,3,6,8,3,6,4,1,3,9,6,4,5,6,8,3,\n",
    "   7,3,4,6,1,3,7,4,6,9,3,6,8,3,6,4,1,3,9,6,4,5,6,8,33,8]\n",
    "for i in range(0,len(a)-5):\n",
    "    sum=a[i]+a[i+1]+a[i+2]+a[i+3]+a[i+4]+a[i+5] \n",
    "    max_sum = max(max_sum,sum)\n",
    "\n",
    "print(\"Maximum sum of any six consecutive elements:\",max_sum)"
   ]
  },
  {
   "cell_type": "code",
   "execution_count": 20,
   "id": "30503b08-9b4f-4d6d-a929-c6e0a6e9e349",
   "metadata": {},
   "outputs": [
    {
     "name": "stdin",
     "output_type": "stream",
     "text": [
      "enter consecutive number: 4\n"
     ]
    },
    {
     "name": "stdout",
     "output_type": "stream",
     "text": [
      "26\n"
     ]
    }
   ],
   "source": [
    "a=[2,4,6,1,3,7,4,6,9,3,6,8,3,6,4,1,3,9,6,4,5,6,8,3,7,\n",
    "   3,6,4,6,1,3,7,4,6,9,3,6,8,3,6,4,1,3,9,6,4,5,6,8,3,\n",
    "   7,3,4,6,1,3,7,4,6,9,3,6,8,3,6,4,1,3,9,6,4,5,6,8,3,\n",
    "   7,3,6,4,6,1,3,7,4,6,9,3,6,8,3,6,4,1,3,9,6,4,5,6,8,3,\n",
    "   7,3,4,6,1,3,7,4,6,9,3,6,8,3,6,4,1,3,9,6,4,5,6,8,3,3,8]\n",
    "max=0\n",
    "con=int(input(\"enter consecutive number:\"))\n",
    "\n",
    "for x in range(0,len(a)-con):\n",
    "    s=0\n",
    "    for j in range(0,con):\n",
    "        s=s+a[x+j]\n",
    "    if max<s:\n",
    "        max=s\n",
    "\n",
    "print(max)"
   ]
  },
  {
   "cell_type": "code",
   "execution_count": null,
   "id": "f4b3e0a3-9c83-4c62-bdf6-ee65e5c7235d",
   "metadata": {},
   "outputs": [],
   "source": [
    "a=[2,4,6,1,3,7,4,6,9,3,6,8,3,6,4,1,3,9,6,4,5,6,8,3,7,\n",
    "   3,6,4,6,1,3,7,4,6,9,3,6,8,3,6,4,1,3,9,6,4,5,6,8,3,\n",
    "   7,3,4,6,1,3,7,4,6,9,3,6,8,3,6,4,1,3,9,6,4,5,6,8,3,\n",
    "   7,3,6,4,6,1,3,7,4,6,9,3,6,8,3,6,4,1,3,9,6,4,5,6,8,3,\n",
    "   7,3,4,6,1,3,7,4,6,9,3,6,8,3,6,4,1,3,9,6,4,5,6,8,3,3,8]\n",
    "max=0 \n",
    "n=int(input(\"enter consecutive number:\"))\n",
    "\n",
    "for x in range(0,len(a)-n):\n",
    "    \n",
    "    \n",
    "    "
   ]
  },
  {
   "cell_type": "code",
   "execution_count": 21,
   "id": "67686ba0-dcef-43f6-a9f3-62bed61d531f",
   "metadata": {},
   "outputs": [
    {
     "ename": "SyntaxError",
     "evalue": "incomplete input (996604514.py, line 12)",
     "output_type": "error",
     "traceback": [
      "\u001b[1;36m  Cell \u001b[1;32mIn[21], line 12\u001b[1;36m\u001b[0m\n\u001b[1;33m    \u001b[0m\n\u001b[1;37m    ^\u001b[0m\n\u001b[1;31mSyntaxError\u001b[0m\u001b[1;31m:\u001b[0m incomplete input\n"
     ]
    }
   ],
   "source": [
    "a=[2,4,6,1,3,7,4,6,9,3,6,8,3,6,4,1,3,9,6,4,5,6,8,3,7,\n",
    "   3,6,4,6,1,3,7,4,6,9,3,6,8,3,6,4,1,3,9,6,4,5,6,8,3,\n",
    "   7,3,4,6,1,3,7,4,6,9,3,6,8,3,6,4,1,3,9,6,4,5,6,8,3,\n",
    "   7,3,6,4,6,1,3,7,4,6,9,3,6,8,3,6,4,1,3,9,6,4,5,6,8,3,\n",
    "   7,3,4,6,1,3,7,4,6,9,3,6,8,3,6,4,1,3,9,6,4,5,6,8,3,3,8]\n",
    "max=0 \n",
    "n=int(input(\"enter consecutive number:\"))\n",
    "\n",
    "for x in range(0,len(a)-n):\n",
    "    \n",
    "     \n",
    "    "
   ]
  },
  {
   "cell_type": "code",
   "execution_count": 23,
   "id": "c723e01b-9795-4da5-a7e9-5e19cec5f24b",
   "metadata": {},
   "outputs": [
    {
     "name": "stdout",
     "output_type": "stream",
     "text": [
      "[0, 1, 3, 4, 4, 6, 7, 8, 9, 52, 455, 634]\n"
     ]
    }
   ],
   "source": [
    "l=[1,4,9,0,6,7,4,3,8,52,634,455]\n",
    "l.sort()\n",
    "print(l)"
   ]
  },
  {
   "cell_type": "markdown",
   "id": "1bb2d804-3e35-4838-b46c-84c4e5bdce43",
   "metadata": {},
   "source": []
  }
 ],
 "metadata": {
  "kernelspec": {
   "display_name": "Python 3 (ipykernel)",
   "language": "python",
   "name": "python3"
  },
  "language_info": {
   "codemirror_mode": {
    "name": "ipython",
    "version": 3
   },
   "file_extension": ".py",
   "mimetype": "text/x-python",
   "name": "python",
   "nbconvert_exporter": "python",
   "pygments_lexer": "ipython3",
   "version": "3.12.3"
  }
 },
 "nbformat": 4,
 "nbformat_minor": 5
}
